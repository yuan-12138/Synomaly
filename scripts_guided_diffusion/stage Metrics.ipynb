{
 "cells": [
  {
   "cell_type": "code",
   "execution_count": 1,
   "id": "afb74bf9",
   "metadata": {},
   "outputs": [],
   "source": [
    "import pickle\n",
    "import numpy as np"
   ]
  },
  {
   "cell_type": "code",
   "execution_count": 2,
   "id": "69c8c0a6",
   "metadata": {},
   "outputs": [],
   "source": [
    "with open('/home/camp/Projects/Yuan/thesis_diffusion-main/output/Ultrasound/model/args_us_27/log_inter_metrics.pkl', 'rb') as f:\n",
    "    loaded_list = pickle.load(f)"
   ]
  },
  {
   "cell_type": "code",
   "execution_count": 3,
   "id": "cd1d38fb",
   "metadata": {},
   "outputs": [
    {
     "name": "stdout",
     "output_type": "stream",
     "text": [
      "[[[0.3106, 0.1953, 0.7589], [0.2708, 0.1618, 0.8299], [0.2662, 0.1568, 0.8816], [0.2691, 0.1585, 0.8897]], [[0.2199, 0.1534, 0.3882], [0.2181, 0.1399, 0.4947], [0.1945, 0.1195, 0.5227], [0.1895, 0.1166, 0.5065]], [[0.1924, 0.1346, 0.3371], [0.2198, 0.1416, 0.4903], [0.2128, 0.1323, 0.5445], [0.1839, 0.1143, 0.471]], [[0.4826, 0.4198, 0.5676], [0.4672, 0.3278, 0.8131], [0.391, 0.256, 0.8274], [0.3868, 0.2536, 0.8143]], [[0.3253, 0.2351, 0.5277], [0.3205, 0.2087, 0.6903], [0.2981, 0.1855, 0.7589], [0.2943, 0.1828, 0.7533]], [[0.4241, 0.2821, 0.8536], [0.2682, 0.1571, 0.9159], [0.2686, 0.1561, 0.9614], [0.2674, 0.1554, 0.957]]]\n"
     ]
    }
   ],
   "source": [
    "print(loaded_list)"
   ]
  },
  {
   "cell_type": "code",
   "execution_count": 4,
   "id": "00474c20",
   "metadata": {},
   "outputs": [
    {
     "name": "stdout",
     "output_type": "stream",
     "text": [
      "6\n"
     ]
    }
   ],
   "source": [
    "print(len(loaded_list))"
   ]
  },
  {
   "cell_type": "code",
   "execution_count": 5,
   "id": "a36ef555",
   "metadata": {},
   "outputs": [
    {
     "name": "stdout",
     "output_type": "stream",
     "text": [
      "[[0.3106, 0.1953, 0.7589], [0.2708, 0.1618, 0.8299], [0.2662, 0.1568, 0.8816], [0.2691, 0.1585, 0.8897]]\n"
     ]
    }
   ],
   "source": [
    "print(loaded_list[0])"
   ]
  },
  {
   "cell_type": "markdown",
   "id": "164aa9b0",
   "metadata": {},
   "source": [
    "# US"
   ]
  },
  {
   "cell_type": "code",
   "execution_count": 10,
   "id": "17ebaa43",
   "metadata": {},
   "outputs": [],
   "source": [
    "with open('/home/camp/Projects/Yuan/thesis_diffusion-main/output/Ultrasound/model/args_us_27/log_inter_metrics.pkl', 'rb') as f:\n",
    "    loaded_list = pickle.load(f)"
   ]
  },
  {
   "cell_type": "code",
   "execution_count": 11,
   "id": "3fbd1d6d",
   "metadata": {},
   "outputs": [
    {
     "name": "stdout",
     "output_type": "stream",
     "text": [
      "545\n",
      "[[0.6146, 0.9839, 0.4469], [0.6979, 0.908, 0.5668], [0.6803, 0.8799, 0.5545], [0.682, 0.8507, 0.5691], [0.6647, 0.8118, 0.5627]]\n"
     ]
    }
   ],
   "source": [
    "print(len(loaded_list))\n",
    "print(loaded_list[9])"
   ]
  },
  {
   "cell_type": "code",
   "execution_count": 12,
   "id": "319d76da",
   "metadata": {},
   "outputs": [],
   "source": [
    "grouped_by_length = {i: [] for i in range(1, 6)}\n",
    "for sublist in loaded_list:\n",
    "    length = len(sublist)\n",
    "    if 1 <= length <= 5:\n",
    "        grouped_by_length[length].append(sublist)\n",
    "        "
   ]
  },
  {
   "cell_type": "code",
   "execution_count": 13,
   "id": "919b989c",
   "metadata": {},
   "outputs": [],
   "source": [
    "\n",
    "# Convert to numpy array: shape = [num_samples, 5 stages, 3 metrics]\n",
    "metrics_array = np.array(grouped_by_length[5])\n",
    "\n",
    "# Compute mean across samples (axis=0): result shape = [5, 3]\n",
    "avg_metrics_per_stage = metrics_array.mean(axis=0)\n",
    "std_metrics_per_stage = metrics_array.std(axis=0)"
   ]
  },
  {
   "cell_type": "code",
   "execution_count": 9,
   "id": "78f1f51b",
   "metadata": {},
   "outputs": [
    {
     "name": "stdout",
     "output_type": "stream",
     "text": [
      "[[0.43836723 0.82466702 0.34158151]\n",
      " [0.65089013 0.83198613 0.58649328]\n",
      " [0.70146239 0.80582353 0.67533992]\n",
      " [0.71480315 0.7790687  0.71564265]\n",
      " [0.71433361 0.75605357 0.73251891]]\n",
      "[[0.2270152  0.24017114 0.21849071]\n",
      " [0.1604829  0.1551814  0.20888121]\n",
      " [0.14092688 0.15024312 0.20059797]\n",
      " [0.13200521 0.15054974 0.19664142]\n",
      " [0.12575052 0.15048509 0.1913558 ]]\n"
     ]
    }
   ],
   "source": [
    "print(avg_metrics_per_stage)\n",
    "print(std_metrics_per_stage)"
   ]
  },
  {
   "cell_type": "code",
   "execution_count": 14,
   "id": "ad11d653",
   "metadata": {},
   "outputs": [
    {
     "name": "stdout",
     "output_type": "stream",
     "text": [
      "[[0.46494153 0.82012346 0.36638324]\n",
      " [0.65369832 0.82132402 0.59617933]\n",
      " [0.69577188 0.79599777 0.67470745]\n",
      " [0.7085473  0.77115493 0.71192942]\n",
      " [0.70962588 0.74888901 0.73020912]]\n",
      "[[0.22328079 0.23367831 0.21924246]\n",
      " [0.16034071 0.16225564 0.21321656]\n",
      " [0.14196428 0.15400896 0.20535679]\n",
      " [0.13414698 0.15362196 0.20038433]\n",
      " [0.12660063 0.15416908 0.19318634]]\n"
     ]
    }
   ],
   "source": [
    "print(avg_metrics_per_stage)\n",
    "print(std_metrics_per_stage)"
   ]
  },
  {
   "cell_type": "markdown",
   "id": "a19150e6",
   "metadata": {},
   "source": [
    "# MRI"
   ]
  },
  {
   "cell_type": "code",
   "execution_count": 15,
   "id": "4b16c9e4",
   "metadata": {},
   "outputs": [],
   "source": [
    "with open('/home/camp/Projects/Yuan/thesis_diffusion-main/output/BraTS/model/args_brats_12/log_inter_metrics.pkl', 'rb') as f:\n",
    "    loaded_list = pickle.load(f)"
   ]
  },
  {
   "cell_type": "code",
   "execution_count": 16,
   "id": "f4bfacc1",
   "metadata": {},
   "outputs": [],
   "source": [
    "grouped_by_length = {i: [] for i in range(1, 6)}\n",
    "for sublist in loaded_list:\n",
    "    length = len(sublist)\n",
    "    if 1 <= length <= 5:\n",
    "        grouped_by_length[length].append(sublist)"
   ]
  },
  {
   "cell_type": "code",
   "execution_count": 17,
   "id": "060ec3b1",
   "metadata": {},
   "outputs": [],
   "source": [
    "# Convert to numpy array: shape = [num_samples, 5 stages, 3 metrics]\n",
    "metrics_array = np.array(grouped_by_length[5])\n",
    "\n",
    "# Compute mean across samples (axis=0): result shape = [5, 3]\n",
    "avg_metrics_per_stage = metrics_array.mean(axis=0)\n",
    "std_metrics_per_stage = metrics_array.std(axis=0)"
   ]
  },
  {
   "cell_type": "code",
   "execution_count": 18,
   "id": "df0e9e00",
   "metadata": {},
   "outputs": [
    {
     "name": "stdout",
     "output_type": "stream",
     "text": [
      "[[0.61892871 0.84022079 0.52410705]\n",
      " [0.70981745 0.83075037 0.66031572]\n",
      " [0.72808106 0.81113886 0.70598144]\n",
      " [0.73727488 0.80043824 0.73064158]\n",
      " [0.73827017 0.78860532 0.74157017]]\n",
      "[[0.27271558 0.30515881 0.26654196]\n",
      " [0.2506788  0.26044468 0.26961884]\n",
      " [0.24186379 0.24897404 0.26959209]\n",
      " [0.23064904 0.23770206 0.26095907]\n",
      " [0.22869637 0.23875905 0.25916329]]\n"
     ]
    }
   ],
   "source": [
    "print(avg_metrics_per_stage)\n",
    "print(std_metrics_per_stage)"
   ]
  },
  {
   "cell_type": "markdown",
   "id": "273ca9eb",
   "metadata": {},
   "source": [
    "# CT"
   ]
  },
  {
   "cell_type": "code",
   "execution_count": 19,
   "id": "d0a440ea",
   "metadata": {},
   "outputs": [],
   "source": [
    "with open('/home/camp/Projects/Yuan/thesis_diffusion-main/output/LiTS/model/args_lits_14/log_inter_metrics.pkl', 'rb') as f:\n",
    "    loaded_list = pickle.load(f)"
   ]
  },
  {
   "cell_type": "code",
   "execution_count": 20,
   "id": "d0325fbb",
   "metadata": {},
   "outputs": [],
   "source": [
    "grouped_by_length = {i: [] for i in range(1, 6)}\n",
    "for sublist in loaded_list:\n",
    "    length = len(sublist)\n",
    "    if 1 <= length <= 5:\n",
    "        grouped_by_length[length].append(sublist)"
   ]
  },
  {
   "cell_type": "code",
   "execution_count": 21,
   "id": "16f39eed",
   "metadata": {},
   "outputs": [],
   "source": [
    "# Convert to numpy array: shape = [num_samples, 5 stages, 3 metrics]\n",
    "metrics_array = np.array(grouped_by_length[5])\n",
    "\n",
    "# Compute mean across samples (axis=0): result shape = [5, 3]\n",
    "avg_metrics_per_stage = metrics_array.mean(axis=0)\n",
    "std_metrics_per_stage = metrics_array.std(axis=0)"
   ]
  },
  {
   "cell_type": "code",
   "execution_count": 22,
   "id": "bdfe9061",
   "metadata": {},
   "outputs": [
    {
     "name": "stdout",
     "output_type": "stream",
     "text": [
      "[[0.40427207 0.65271331 0.32129229]\n",
      " [0.50677778 0.69671652 0.44573243]\n",
      " [0.54018398 0.69747858 0.49305706]\n",
      " [0.55097868 0.66458669 0.5269965 ]\n",
      " [0.54101612 0.60124184 0.55141812]]\n",
      "[[0.3167101  0.43370971 0.28319021]\n",
      " [0.31900135 0.3694202  0.3201699 ]\n",
      " [0.31093802 0.34333186 0.32342318]\n",
      " [0.29324296 0.31119523 0.31837119]\n",
      " [0.27711774 0.28800533 0.31457504]]\n"
     ]
    }
   ],
   "source": [
    "print(avg_metrics_per_stage)\n",
    "print(std_metrics_per_stage)"
   ]
  },
  {
   "cell_type": "code",
   "execution_count": null,
   "id": "fcc7e421",
   "metadata": {},
   "outputs": [],
   "source": []
  },
  {
   "cell_type": "code",
   "execution_count": 29,
   "id": "84beb10a",
   "metadata": {},
   "outputs": [
    {
     "name": "stdout",
     "output_type": "stream",
     "text": [
      "0.5958676716917922\n"
     ]
    }
   ],
   "source": [
    "precision = 0.623\n",
    "recall = 0.571\n",
    "\n",
    "print((2*precision*recall)/(precision+recall))"
   ]
  },
  {
   "cell_type": "code",
   "execution_count": null,
   "id": "dcc7c47d",
   "metadata": {},
   "outputs": [],
   "source": []
  }
 ],
 "metadata": {
  "kernelspec": {
   "display_name": "Python 3 (ipykernel)",
   "language": "python",
   "name": "python3"
  },
  "language_info": {
   "codemirror_mode": {
    "name": "ipython",
    "version": 3
   },
   "file_extension": ".py",
   "mimetype": "text/x-python",
   "name": "python",
   "nbconvert_exporter": "python",
   "pygments_lexer": "ipython3",
   "version": "3.11.9"
  }
 },
 "nbformat": 4,
 "nbformat_minor": 5
}
