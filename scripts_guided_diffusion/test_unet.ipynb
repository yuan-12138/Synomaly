{
 "cells": [
  {
   "cell_type": "code",
   "execution_count": 1,
   "id": "7ef40ef2-7bd7-4efa-a3eb-ae21e8972eb4",
   "metadata": {},
   "outputs": [
    {
     "name": "stderr",
     "output_type": "stream",
     "text": [
      "/home/camp/anaconda3/envs/diffusion/lib/python3.11/site-packages/tqdm/auto.py:21: TqdmWarning: IProgress not found. Please update jupyter and ipywidgets. See https://ipywidgets.readthedocs.io/en/stable/user_install.html\n",
      "  from .autonotebook import tqdm as notebook_tqdm\n"
     ]
    }
   ],
   "source": [
    "from unet_seg import UNet\n",
    "from data_loader import UltrasoundDatasetSeg, BratsDatasetSeg\n",
    "import torch\n",
    "import matplotlib.pyplot as plt\n",
    "\n",
    "import numpy as np\n",
    "import os\n",
    "import shutil\n",
    "from torchvision.utils import save_image\n",
    "from torch.utils.data import DataLoader, random_split, Subset\n",
    "import warnings"
   ]
  },
  {
   "cell_type": "code",
   "execution_count": 2,
   "id": "3c213196-fa5c-4c01-9e47-81fd3e344288",
   "metadata": {},
   "outputs": [],
   "source": [
    "def get_dice_score(diff_truth, diff_pred):\n",
    "    if diff_truth.sum() == 0 and diff_pred.sum() == 0:\n",
    "        return 1.0\n",
    "    dice_score = 2 * (diff_truth & diff_pred).sum() / (diff_truth.sum() + diff_pred.sum())\n",
    "    return round(dice_score, 4)\n",
    "\n",
    "\n",
    "def get_iou_score(diff_truth, diff_pred):\n",
    "    if diff_truth.sum() == 0 and diff_pred.sum() == 0:\n",
    "        return 1.0\n",
    "    intersection = np.logical_and(diff_truth, diff_pred)\n",
    "    union = np.logical_or(diff_truth, diff_pred)\n",
    "    iou_score = np.sum(intersection) / np.sum(union)\n",
    "    return round(iou_score, 4)\n",
    "\n",
    "def get_precision_score(diff_truth, diff_pred):\n",
    "    if diff_truth.sum() == 0 and diff_pred.sum() == 0:\n",
    "        return 1.0\n",
    "    true_positives = np.sum(diff_truth & diff_pred)\n",
    "    false_positives = np.sum(diff_pred) - true_positives\n",
    "    if true_positives + false_positives != 0:\n",
    "        precision_score = true_positives / (true_positives + false_positives)\n",
    "    else:\n",
    "        precision_score = 0.0\n",
    "    return round(precision_score, 4)\n",
    "\n",
    "\n",
    "def get_recall_score(diff_truth, diff_pred):\n",
    "    if diff_truth.sum() == 0 and diff_pred.sum() == 0:\n",
    "        return 1.0\n",
    "    true_positives = np.sum(diff_truth & diff_pred)\n",
    "    false_negatives = np.sum(diff_truth) - true_positives\n",
    "    if true_positives + false_negatives != 0:\n",
    "        recall_score = true_positives / (true_positives + false_negatives)\n",
    "    else:\n",
    "        recall_score = 0.0\n",
    "    return round(recall_score, 4)\n",
    "\n",
    "\n",
    "def get_fpr_score(diff_truth, diff_pred):\n",
    "    false_positives = np.sum(diff_pred) - np.sum(diff_truth & diff_pred)\n",
    "    true_negatives = np.sum(~diff_truth & ~diff_pred)\n",
    "    try:\n",
    "        fpr_score = false_positives / (false_positives + true_negatives)\n",
    "    except:\n",
    "        fpr_score = 0.0\n",
    "    return round(fpr_score, 4)\n",
    "\n",
    "\n",
    "def get_auprc_score(diff_truth, diff_pred):\n",
    "    warnings.filterwarnings(\"ignore\", message=\"No positive class found in y_true*\")\n",
    "    precision, recall, thresholds = precision_recall_curve(diff_truth.flatten(), diff_pred.flatten())\n",
    "    auprc = auc(recall, precision)\n",
    "    return round(auprc, 4)\n",
    "\n",
    "\n",
    "def get_hausdorff_distance(diff_truth, diff_pred, percentile=95):\n",
    "    from scipy.spatial import distance\n",
    "    # Compute all pairwise distances\n",
    "    dists = distance.cdist(diff_truth, diff_pred, 'euclidean')\n",
    "\n",
    "    # Compute directed Hausdorff distances\n",
    "    distance_1 = np.min(dists, axis=1)\n",
    "    distance_2 = np.min(dists, axis=0)\n",
    "\n",
    "    # Find the percentile distance\n",
    "    hd1 = np.percentile(distance_1, percentile)\n",
    "    hd2 = np.percentile(distance_2, percentile)\n",
    "\n",
    "    return round(max(hd1, hd2), 4)\n",
    "\n",
    "\n",
    "def get_ssim_score(x_0, x_pred):\n",
    "    from skimage.metrics import structural_similarity as ssim\n",
    "    x_0_array = x_0.cpu().detach().numpy().squeeze()\n",
    "    x_pred_array = x_pred.cpu().detach().numpy().squeeze()\n",
    "    ssim_score = ssim(x_0_array, x_pred_array, data_range=x_0_array.max() - x_0_array.min())\n",
    "    return round(ssim_score, 4)"
   ]
  },
  {
   "cell_type": "code",
   "execution_count": 3,
   "id": "8e9f8e94-e204-4215-84d5-15f682badc0f",
   "metadata": {},
   "outputs": [],
   "source": [
    "def write_log_file(file_path,txt):\n",
    "    with open(file_path, 'a') as f:\n",
    "        f.write(txt + '\\n')"
   ]
  },
  {
   "cell_type": "code",
   "execution_count": 10,
   "id": "b58140c5-870a-4751-87fa-afe55fa7f0f2",
   "metadata": {},
   "outputs": [
    {
     "name": "stdout",
     "output_type": "stream",
     "text": [
      "196\n",
      "Average DICE score: 0.8275+-0.2229, average IOU score: 0.7504+-0.2393, average Precision: 0.8499+-0.2372, average Recall: 0.8495+-0.2167, average Hausdorff: 1.8413+-0.8937, average SSIM: 0.6405+-0.0307\n"
     ]
    }
   ],
   "source": [
    "# pretrained_path = '../output/LiTS/seg_model/brats_model_best.pth'\n",
    "# img_file = '../output/LiTS/test_anomalous_abdomen_dataset.pkl'\n",
    "# label_file = '../output/LiTS/test_anomalous_tumor_masks.pkl'\n",
    "# test_dataset = UltrasoundDatasetSeg(img_file, label_file,128,False)\n",
    "\n",
    "# pretrained_path = '../output/Ultrasound/seg_model/brats_model_best.pth'\n",
    "# img_file = '../output/Ultrasound/test_anomalous_dataset.pkl'\n",
    "# label_file = '../output/Ultrasound/test_anomalous_masks.pkl'\n",
    "# test_dataset = UltrasoundDatasetSeg(img_file, label_file,128,False)\n",
    "\n",
    "pretrained_path = '../output/BraTS/seg_model/brats_model_best.pth'\n",
    "img_file = '../output/BraTS/test_anomalous_dataset.npy'\n",
    "label_file = '../output/BraTS/test_anomalous_masks.npy'\n",
    "test_dataset = BratsDatasetSeg(img_file, label_file,128,False)\n",
    "\n",
    "log_path = os.path.join(os.path.dirname(pretrained_path),'log.txt')\n",
    "\n",
    "model = UNet(init_features=64).to('cuda')\n",
    "checkpoint = torch.load(pretrained_path)\n",
    "model.load_state_dict(checkpoint[\"state_dict\"])\n",
    "print(checkpoint['epoch'])\n",
    "\n",
    "model.eval()\n",
    "\n",
    "\n",
    "\n",
    "num_test_data = int(len(test_dataset) * 0.5)\n",
    "\n",
    "test_dataset = Subset(test_dataset, list(range(num_test_data, len(test_dataset))))\n",
    "\n",
    "test_dataloader = DataLoader(test_dataset, batch_size=1, shuffle=False)\n",
    "evaluation_score_list=[]\n",
    "for i, image in enumerate(test_dataloader):\n",
    "    with torch.no_grad():\n",
    "        x_0 = image[0].to('cuda')\n",
    "        x_pred = model(x_0)\n",
    "\n",
    "    predicted_anomaly = x_pred.cpu().squeeze().numpy()\n",
    "    predicted_anomaly[predicted_anomaly < 0.5] = 0\n",
    "        \n",
    "    groundtruth_anomaly = image[1].cpu().squeeze().numpy().astype(bool)\n",
    "    predicted_anomaly = predicted_anomaly.astype(bool)\n",
    "\n",
    "    evaluation_scores = {\n",
    "        \"dice_score\": get_dice_score(groundtruth_anomaly, predicted_anomaly),\n",
    "        \"iou_score\": get_iou_score(groundtruth_anomaly, predicted_anomaly),\n",
    "        \"precision_score\": get_precision_score(groundtruth_anomaly, predicted_anomaly),\n",
    "        \"recall_score\": get_recall_score(groundtruth_anomaly, predicted_anomaly),\n",
    "        \"hausdorff_score\": get_hausdorff_distance(groundtruth_anomaly, predicted_anomaly),\n",
    "        \"ssim_score\": get_ssim_score(x_0, x_pred)\n",
    "    }\n",
    "    evaluation_score_list.append(evaluation_scores)\n",
    "\n",
    "score_names = list(evaluation_score_list[0].keys())\n",
    "evaluation_mean = {score_name: round(np.mean([entry[score_name] for entry in evaluation_score_list]), 4) for score_name in score_names}\n",
    "evaluation_std = {score_name: round(np.std([entry[score_name] for entry in evaluation_score_list]), 4) for score_name in score_names}\n",
    "\n",
    "print(f\"Average DICE score: {evaluation_mean['dice_score']}+-{evaluation_std['dice_score']}, average IOU score: {evaluation_mean['iou_score']}+-{evaluation_std['iou_score']}, average Precision: {evaluation_mean['precision_score']}+-{evaluation_std['precision_score']}, average Recall: {evaluation_mean['recall_score']}+-{evaluation_std['recall_score']}, average Hausdorff: {evaluation_mean['hausdorff_score']}+-{evaluation_std['hausdorff_score']}, average SSIM: {evaluation_mean['ssim_score']}+-{evaluation_std['ssim_score']}\")\n",
    "write_log_file(log_path,f\"Average DICE score: {evaluation_mean['dice_score']}+-{evaluation_std['dice_score']}, average IOU score: {evaluation_mean['iou_score']}+-{evaluation_std['iou_score']}, average Precision: {evaluation_mean['precision_score']}+-{evaluation_std['precision_score']}, average Recall: {evaluation_mean['recall_score']}+-{evaluation_std['recall_score']}, average Hausdorff: {evaluation_mean['hausdorff_score']}+-{evaluation_std['hausdorff_score']}, average SSIM: {evaluation_mean['ssim_score']}+-{evaluation_std['ssim_score']}\")\n",
    "\n"
   ]
  },
  {
   "cell_type": "code",
   "execution_count": 10,
   "id": "63bdc827-c86a-4de9-98fa-1c6a3484068a",
   "metadata": {},
   "outputs": [
    {
     "name": "stdout",
     "output_type": "stream",
     "text": [
      "0\n"
     ]
    }
   ],
   "source": [
    "print(i)"
   ]
  },
  {
   "cell_type": "code",
   "execution_count": 12,
   "id": "2d967c98-62c4-47b7-8c03-b9a87f888293",
   "metadata": {},
   "outputs": [
    {
     "data": {
      "text/plain": [
       "array([0., 1.], dtype=float32)"
      ]
     },
     "execution_count": 12,
     "metadata": {},
     "output_type": "execute_result"
    }
   ],
   "source": [
    "np.unique(groundtruth_anomaly_mask)"
   ]
  },
  {
   "cell_type": "code",
   "execution_count": 34,
   "id": "af64b5e5-4379-43ba-be0a-c98fab0345da",
   "metadata": {},
   "outputs": [
    {
     "data": {
      "text/plain": [
       "<matplotlib.image.AxesImage at 0x7f47d94b56d0>"
      ]
     },
     "execution_count": 34,
     "metadata": {},
     "output_type": "execute_result"
    },
    {
     "data": {
      "image/png": "[encoded data removed]",
      "text/plain": [
       "<Figure size 640x480 with 1 Axes>"
      ]
     },
     "metadata": {},
     "output_type": "display_data"
    }
   ],
   "source": [
    "plt.imshow(x_pred.cpu().squeeze().numpy())"
   ]
  },
  {
   "cell_type": "code",
   "execution_count": 35,
   "id": "b49e66f6-7b96-4a86-925e-495be5b48f44",
   "metadata": {},
   "outputs": [
    {
     "data": {
      "text/plain": [
       "<matplotlib.image.AxesImage at 0x7f47a24f28d0>"
      ]
     },
     "execution_count": 35,
     "metadata": {},
     "output_type": "execute_result"
    },
    {
     "data": {
      "image/png": "[encoded data removed]",
      "text/plain": [
       "<Figure size 640x480 with 1 Axes>"
      ]
     },
     "metadata": {},
     "output_type": "display_data"
    }
   ],
   "source": [
    "plt.imshow(predicted_anomaly)"
   ]
  },
  {
   "cell_type": "code",
   "execution_count": null,
   "id": "9b2e139a-be64-4e39-9b99-d80f911e4a5c",
   "metadata": {},
   "outputs": [],
   "source": []
  }
 ],
 "metadata": {
  "kernelspec": {
   "display_name": "Python 3 (ipykernel)",
   "language": "python",
   "name": "python3"
  },
  "language_info": {
   "codemirror_mode": {
    "name": "ipython",
    "version": 3
   },
   "file_extension": ".py",
   "mimetype": "text/x-python",
   "name": "python",
   "nbconvert_exporter": "python",
   "pygments_lexer": "ipython3",
   "version": "3.11.9"
  }
 },
 "nbformat": 4,
 "nbformat_minor": 5
}
