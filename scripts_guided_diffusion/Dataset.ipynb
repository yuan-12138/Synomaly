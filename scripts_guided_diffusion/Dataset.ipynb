{
 "cells": [
  {
   "cell_type": "code",
   "execution_count": 1,
   "id": "4f21626a",
   "metadata": {},
   "outputs": [],
   "source": [
    "import json\n",
    "\n",
    "import cv2\n",
    "import numpy as np\n",
    "from matplotlib import pyplot as plt\n",
    "import glob\n",
    "import torch\n",
    "import pickle\n",
    "from itertools import combinations\n",
    "import os\n",
    "import nibabel as nib\n",
    "from collections import defaultdict\n",
    "import random"
   ]
  },
  {
   "cell_type": "code",
   "execution_count": 2,
   "id": "85ab3e99",
   "metadata": {},
   "outputs": [],
   "source": [
    "def crop_to_vessel(img, vessel_mask, crop_factor=1.0, width_vario=0.5, height_vario=0.5):\n",
    "    \"\"\"\n",
    "    Crop the image to the vessel mask.\n",
    "\n",
    "    :param img: input image\n",
    "    :param vessel_mask: vessel mask\n",
    "    :param crop_factor: crop factor, 1.0 for exact bounding box of vessel mask, >1.0 for larger areas\n",
    "    :param width_vario: positional shift of vessel in horizontal direction\n",
    "    :param height_vario: positional shift of vessel in vertical direction\n",
    "    :return: cropped image\n",
    "    \"\"\"\n",
    "\n",
    "    # Find contours in the vessel_mask\n",
    "    contours, _ = cv2.findContours(vessel_mask, cv2.RETR_EXTERNAL, cv2.CHAIN_APPROX_SIMPLE)\n",
    "\n",
    "    # Get the bounding box around the vessel_mask\n",
    "    x, y, w, h = cv2.boundingRect(contours[0])\n",
    "\n",
    "    # Calculate the center of the bounding box\n",
    "    center_x = x + w // 2\n",
    "    center_y = y + h // 2\n",
    "\n",
    "    # Determine the size of the square\n",
    "    cropped_width = w * crop_factor\n",
    "    cropped_height = h * crop_factor\n",
    "\n",
    "    x1 = max(0, center_x - int(cropped_width * width_vario))\n",
    "    y1 = max(0, center_y - int(cropped_height * height_vario))\n",
    "    x2 = min(img.shape[1], center_x + int(cropped_width * (1-width_vario)))\n",
    "    y2 = min(img.shape[0], center_y + int(cropped_height * (1-height_vario)))\n",
    "\n",
    "    # Crop the image to the square\n",
    "    return img[y1:y2, x1:x2]"
   ]
  },
  {
   "cell_type": "code",
   "execution_count": 3,
   "id": "717a206f",
   "metadata": {},
   "outputs": [],
   "source": [
    "def read_selection_from_json(file_path):\n",
    "    \"\"\"\n",
    "    Reads selection criteria from a JSON file.\n",
    "\n",
    "    :param file_path: path to JSON file\n",
    "    :return: selection criteria\n",
    "    \"\"\"\n",
    "    with open(file_path, 'r') as f:\n",
    "        selection_data = json.load(f)\n",
    "\n",
    "    selection = {}\n",
    "    for subfolder, data in selection_data.items():\n",
    "        ranges = [(int(start), int(end)) for range_str in data[\"ranges\"] for start, end in [range_str.split('-')]]\n",
    "        step_size = data[\"step_size\"]\n",
    "        selection[subfolder] = {\"ranges\": ranges, \"step_size\": step_size}\n",
    "\n",
    "    return selection"
   ]
  },
  {
   "cell_type": "code",
   "execution_count": 7,
   "id": "a195bbd2",
   "metadata": {},
   "outputs": [],
   "source": [
    "def create_healthy_datasets(healthy_selection_json, dataset_path, show_images=False):\n",
    "    \"\"\"\n",
    "    Create healthy datasets from the selected healthy images.\n",
    "\n",
    "    :param healthy_selection_json: selected healthy images\n",
    "    :param dataset_path: path to data\n",
    "    :param show_images: boolean to show images\n",
    "    :return: healthy training and test datasets\n",
    "    \"\"\"\n",
    "    healthy_selection = read_selection_from_json(healthy_selection_json)\n",
    "\n",
    "    image_dataset = []\n",
    "\n",
    "    number_of_images = []\n",
    "    folders = []\n",
    "\n",
    "    for data_path, selection in healthy_selection.items():\n",
    "        print(f\"Processing {data_path}\")\n",
    "        current_image_dataset = []\n",
    "        slice_ranges = selection[\"ranges\"]\n",
    "        image_step_size = selection[\"step_size\"]\n",
    "\n",
    "        for start_index, end_index in slice_ranges:\n",
    "            image_files = sorted(glob.glob(f\"/home/camp/Projects/Yuan/Data/Ultrasound_synomaly/healthy/{data_path}/img/*.png\"))[start_index - 1: end_index]\n",
    "            vessel_files = sorted(glob.glob(f\"/home/camp/Projects/Yuan/Data/Ultrasound_synomaly/healthy/{data_path}/vessel/*.png\"))[start_index - 1: end_index]\n",
    "\n",
    "            for i, img_id in enumerate(range(0, len(image_files), image_step_size)):\n",
    "                img = cv2.imread(image_files[img_id])[:, :, 0]\n",
    "                vessel_mask = cv2.imread(vessel_files[img_id], cv2.IMREAD_GRAYSCALE)\n",
    "\n",
    "                # augmentation\n",
    "                crop_factor = np.random.uniform(1.1, 1.5)\n",
    "                width_vario = np.random.uniform(0.46, 0.54)\n",
    "                height_vario = np.random.uniform(0.46, 0.54)\n",
    "\n",
    "                cropped_image = crop_to_vessel(img, vessel_mask, crop_factor, width_vario, height_vario)\n",
    "                current_image_dataset.append(cropped_image)\n",
    "                # if show_images:\n",
    "                #     plt.figure()\n",
    "                #     plt.subplot(1, 3, 1)\n",
    "                #     plt.imshow(img, cmap=\"gray\")\n",
    "                #     plt.title(\"Original Image\")\n",
    "                #     plt.subplot(1, 3, 2)\n",
    "                #     plt.imshow(vessel_mask, cmap=\"gray\")\n",
    "                #     plt.title(\"Vessel mask\")\n",
    "                #     plt.subplot(1, 3, 3)\n",
    "                #     plt.imshow(cropped_image, cmap=\"gray\")\n",
    "                #     plt.title(\"Cropped Image\")\n",
    "                #     plt.tight_layout()\n",
    "                #     plt.suptitle(f\"{data_path}, {img_id}, {i}\")\n",
    "                #     plt.setp(plt.gcf().get_axes(), xticks=[], yticks=[])\n",
    "                #     plt.show()\n",
    "\n",
    "\n",
    "        image_dataset.append(current_image_dataset)\n",
    "\n",
    "        number_of_images.append(len(current_image_dataset))\n",
    "        folders.append(data_path)\n",
    "    return image_dataset, number_of_images, folders"
   ]
  },
  {
   "cell_type": "code",
   "execution_count": 5,
   "id": "3fbdf722",
   "metadata": {},
   "outputs": [],
   "source": [
    "def split_dataset(folder_names, image_counts, folder_to_subject, target_train_size):\n",
    "    # Group folders by subjects\n",
    "    subject_to_folders = defaultdict(list)\n",
    "    subject_to_image_counts = defaultdict(int)\n",
    "    \n",
    "    for folder, count in zip(folder_names, image_counts):\n",
    "        subject = folder_to_subject[folder]\n",
    "        subject_to_folders[subject].append(folder)\n",
    "        subject_to_image_counts[subject] += count\n",
    "    \n",
    "    # Sort subjects by total image count (descending order for greedy selection)\n",
    "    sorted_subjects = sorted(subject_to_folders.keys(), key=lambda s: subject_to_image_counts[s], reverse=True)\n",
    "    \n",
    "    train_indices = set()\n",
    "    test_indices = set(range(len(folder_names)))\n",
    "    current_train_size = 0\n",
    "    \n",
    "    # Greedy selection of subjects to reach target as closely as possible\n",
    "    for subject in sorted_subjects:\n",
    "        subject_folders = subject_to_folders[subject]\n",
    "        subject_size = subject_to_image_counts[subject]\n",
    "        \n",
    "        if current_train_size + subject_size <= target_train_size:\n",
    "            for folder in subject_folders:\n",
    "                index = folder_names.index(folder)\n",
    "                train_indices.add(index)\n",
    "                test_indices.discard(index)\n",
    "            current_train_size += subject_size\n",
    "    \n",
    "    return list(train_indices), list(test_indices)"
   ]
  },
  {
   "cell_type": "code",
   "execution_count": 8,
   "id": "51f39ac6",
   "metadata": {
    "scrolled": true
   },
   "outputs": [
    {
     "name": "stdout",
     "output_type": "stream",
     "text": [
      "Processing continous/carotid/1\n",
      "Processing continous/carotid/2\n",
      "Processing continous/carotid/3\n",
      "Processing continous/carotid/4\n",
      "Processing continous/carotid/5\n",
      "Processing continous/carotid/6\n",
      "Processing continous/carotid/7\n",
      "Processing continous/carotid/8\n",
      "Processing continous/carotid/9\n",
      "Processing lucie/1\n",
      "Processing lucie/2\n",
      "Processing lucie/3\n",
      "Processing camp_lab/1\n",
      "Processing camp_lab/2\n",
      "Processing camp_lab/3\n",
      "Processing camp_lab/4\n",
      "Processing camp_lab/5\n",
      "Processing camp_lab/6\n",
      "Processing camp_lab/7\n",
      "Processing camp_lab/8\n",
      "Processing camp_lab/9\n",
      "Processing camp_lab/10\n",
      "Processing camp_lab/11\n",
      "Processing camp_lab/12\n",
      "Processing camp_lab/13\n",
      "Processing camp_lab/14\n",
      "Processing camp_lab/15\n",
      "Processing camp_lab/16\n",
      "Processing camp_lab/17\n",
      "Processing camp_lab/18\n",
      "Processing camp_lab/19\n",
      "Processing camp_lab/20\n",
      "Processing camp_lab/21\n",
      "Processing camp_lab/22\n",
      "Processing camp_lab/23\n",
      "Processing camp_lab/24\n",
      "Processing camp_lab/25\n",
      "Processing camp_lab/26\n",
      "Processing camp_lab/27\n",
      "Processing camp_lab/28\n",
      "Processing camp_lab/29\n",
      "Processing camp_lab/30\n",
      "Processing camp_lab/31\n",
      "Processing camp_lab/32\n",
      "Processing camp_lab/33\n",
      "Processing camp_lab/34\n",
      "Processing camp_lab/35\n",
      "Processing camp_lab/36\n",
      "Processing camp_lab/37\n",
      "Processing camp_lab/38\n",
      "Processing camp_lab/39\n",
      "Processing camp_lab/40\n",
      "Processing camp_lab/41\n",
      "Processing camp_lab/42\n",
      "Processing camp_lab/43\n",
      "Processing camp_lab/44\n",
      "Processing camp_lab/45\n",
      "Processing camp_lab/46\n"
     ]
    }
   ],
   "source": [
    "healthy_selection_json = '/home/camp/Projects/Yuan/thesis_diffusion-main/output/Ultrasound/healthy_image_selection.json'\n",
    "dataset_path = '1'\n",
    "image_dataset, number_of_images, folders = create_healthy_datasets(healthy_selection_json, dataset_path, show_images=False)"
   ]
  },
  {
   "cell_type": "code",
   "execution_count": 13,
   "id": "557f0f92",
   "metadata": {},
   "outputs": [],
   "source": [
    "folder_to_subject = {\n",
    "    \"continous/carotid/1\": \"Dianye\",\n",
    "    \"continous/carotid/2\": \"Dianye\",\n",
    "    \"continous/carotid/3\": \"Dianye\",\n",
    "    \"continous/carotid/4\": \"Yuan Bi\",\n",
    "    \"continous/carotid/5\": \"Yuan Bi\",\n",
    "    \"continous/carotid/6\": \"Yuan Bi\",\n",
    "    \"continous/carotid/7\": \"Zhongliang\",\n",
    "    \"continous/carotid/8\": \"Zhongliang\",\n",
    "    \"continous/carotid/9\": \"Zhongliang\",\n",
    "    \"lucie/1\": \"Lucie\",\n",
    "    \"lucie/2\": \"Lucie\",\n",
    "    \"lucie/3\": \"Lucie\",\n",
    "    \"camp_lab/1\": \"Yang Su\",\n",
    "    \"camp_lab/2\": \"Yang Su\",\n",
    "    \"camp_lab/3\": \"Yang Su\",\n",
    "    \"camp_lab/4\": \"Person 1\",\n",
    "    \"camp_lab/5\": \"Person 1\",\n",
    "    \"camp_lab/6\": \"Zhongyu\",\n",
    "    \"camp_lab/7\": \"Zhongyu\",\n",
    "    \"camp_lab/8\": \"Zhongyu\",\n",
    "    \"camp_lab/9\": \"Felix H\",\n",
    "    \"camp_lab/10\": \"Felix H\",\n",
    "    \"camp_lab/11\": \"Person 2\",\n",
    "    \"camp_lab/12\": \"Person 2\",\n",
    "    \"camp_lab/13\": \"Person 2\",\n",
    "    \"camp_lab/14\": \"David\",\n",
    "    \"camp_lab/15\": \"David\",\n",
    "    \"camp_lab/16\": \"Chantal\",\n",
    "    \"camp_lab/17\": \"Chantal\",\n",
    "    \"camp_lab/18\": \"Ege\",\n",
    "    \"camp_lab/19\": \"Ege\",\n",
    "    \"camp_lab/20\": \"Francesca\",\n",
    "    \"camp_lab/21\": \"Francesca\",\n",
    "    \"camp_lab/22\": \"Lennard\",\n",
    "    \"camp_lab/23\": \"Lennard\",\n",
    "    \"camp_lab/24\": \"Kevin\",\n",
    "    \"camp_lab/25\": \"Kevin\",\n",
    "    \"camp_lab/26\": \"Unknown\",\n",
    "    \"camp_lab/27\": \"Feng\",\n",
    "    \"camp_lab/28\": \"Feng\",\n",
    "    \"camp_lab/29\": \"Magda\",\n",
    "    \"camp_lab/30\": \"Magda\",\n",
    "    \"camp_lab/31\": \"Hong Joo\",\n",
    "    \"camp_lab/32\": \"Hong Joo\",\n",
    "    \"camp_lab/33\": \"Vanessa\",\n",
    "    \"camp_lab/34\": \"Vanessa\",\n",
    "    \"camp_lab/35\": \"Dianye\",\n",
    "    \"camp_lab/36\": \"Dianye\",\n",
    "    \"camp_lab/37\": \"Xuesong\",\n",
    "    \"camp_lab/38\": \"Xuesong\",\n",
    "    \"camp_lab/39\": \"Felix D\",\n",
    "    \"camp_lab/40\": \"Felix D\",\n",
    "    \"camp_lab/41\": \"Dani\",\n",
    "    \"camp_lab/42\": \"Dani\",\n",
    "    \"camp_lab/43\": \"Dani\",\n",
    "    \"camp_lab/44\": \"Lucie\",\n",
    "    \"camp_lab/45\": \"Dian Gong\",\n",
    "    \"camp_lab/46\": \"Dian Gong\"\n",
    "}"
   ]
  },
  {
   "cell_type": "code",
   "execution_count": 14,
   "id": "0fc5394a",
   "metadata": {},
   "outputs": [
    {
     "name": "stdout",
     "output_type": "stream",
     "text": [
      "Train folders: [0, 1, 2, 3, 4, 5, 6, 7, 8, 9, 10, 11, 12, 13, 14, 20, 21, 25, 26, 27, 28, 31, 32, 37, 40, 41, 42, 43, 44, 45, 46, 47, 50, 51, 52, 53, 54, 55, 56, 57]\n",
      "Test folders: [15, 16, 17, 18, 19, 22, 23, 24, 29, 30, 33, 34, 35, 36, 38, 39, 48, 49]\n"
     ]
    }
   ],
   "source": [
    "train_folders, test_folders = split_dataset(folders, number_of_images, folder_to_subject, 7306)\n",
    "print(\"Train folders:\", train_folders)\n",
    "print(\"Test folders:\", test_folders)"
   ]
  },
  {
   "cell_type": "code",
   "execution_count": 15,
   "id": "e9072f92",
   "metadata": {},
   "outputs": [
    {
     "name": "stdout",
     "output_type": "stream",
     "text": [
      "Subset close to target (values): 7285\n",
      "Remaining numbers (values): 833\n"
     ]
    }
   ],
   "source": [
    "training_numbers = [number_of_images[i] for i in train_folders]\n",
    "test_numbers = [number_of_images[i] for i in test_folders]\n",
    "print(\"Subset close to target (values):\", np.sum(training_numbers))\n",
    "print(\"Remaining numbers (values):\", np.sum(test_numbers))"
   ]
  },
  {
   "cell_type": "code",
   "execution_count": 17,
   "id": "f805d4bc",
   "metadata": {},
   "outputs": [
    {
     "name": "stdout",
     "output_type": "stream",
     "text": [
      "7285\n"
     ]
    }
   ],
   "source": [
    "train_healthy_data = [image for i in train_folders for image in image_dataset[i]]\n",
    "test_healthy_data = [image for i in test_folders for image in image_dataset[i]]\n",
    "print(len(train_healthy_data))\n",
    "\n",
    "with open(f\"/home/camp/Projects/Yuan/thesis_diffusion-main/output/Ultrasound/train_healthy_dataset_new.pkl\", \"wb\") as f:\n",
    "    pickle.dump(train_healthy_data, f)\n",
    "with open(f\"/home/camp/Projects/Yuan/thesis_diffusion-main/output/Ultrasound/test_healthy_dataset_new.pkl\", \"wb\") as f:\n",
    "    pickle.dump(test_healthy_data, f)"
   ]
  },
  {
   "cell_type": "code",
   "execution_count": 11,
   "id": "3dc1b9ee",
   "metadata": {},
   "outputs": [
    {
     "data": {
      "text/plain": [
       "58"
      ]
     },
     "execution_count": 11,
     "metadata": {},
     "output_type": "execute_result"
    }
   ],
   "source": [
    "len(image_dataset)"
   ]
  },
  {
   "cell_type": "markdown",
   "id": "aaf16d5a",
   "metadata": {},
   "source": [
    "# Brats23"
   ]
  },
  {
   "cell_type": "code",
   "execution_count": 2,
   "id": "3ddccc15",
   "metadata": {},
   "outputs": [],
   "source": [
    "def create_healthy_and_anomalous_list(data_path):\n",
    "    \"\"\"\n",
    "    Create lists of healthy and anomalous patients and brain slices.\n",
    "\n",
    "    :param data_path: path to data\n",
    "    :param output_path: path to save output\n",
    "    \"\"\"\n",
    "\n",
    "#     df = pd.read_excel(f\"{data_path}/BraTS2023_2017_GLI_Mapping.xlsx\")\n",
    "#     brats23_column = df[\"BraTS2023\"]\n",
    "#     all_patients = [element[len(\"BraTS-GLI-\"):] for element in brats23_column if\n",
    "#                     isinstance(element, str) and element.startswith(\"BraTS-GLI-\")]\n",
    "\n",
    "    all_patients = os.listdir(data_path)\n",
    "    all_patients.sort()\n",
    "\n",
    "    brain_slices = np.arange(80, 100)  # between 80 and 100 best; also tried (50, 121)\n",
    "\n",
    "    healthy_list = []\n",
    "    anomalous_patient_list = []\n",
    "    healthy_patient_list = []\n",
    "    number_of_healthy_list = []\n",
    "\n",
    "    for patient in all_patients:\n",
    "        current_healthy_list = []\n",
    "        path = f\"{data_path}/{patient}/{patient}\"\n",
    "        seg = nib.load(f\"{path}-seg.nii.gz\").get_fdata()\n",
    "        volume = nib.load(f\"{path}-t2f.nii.gz\").get_fdata()\n",
    "\n",
    "        for brain_slice in brain_slices:\n",
    "            seg_slice = seg[:, :, brain_slice]\n",
    "\n",
    "            if np.all(seg_slice == 0):  # No tumor\n",
    "                current_healthy_list.append(volume[:, :, brain_slice])\n",
    "        if len(current_healthy_list) > 0:\n",
    "            healthy_patient_list.append(patient)\n",
    "            number_of_healthy_list.append(len(current_healthy_list))\n",
    "            healthy_list.append(current_healthy_list)\n",
    "        else:\n",
    "            anomalous_patient_list.append(patient)\n",
    "\n",
    "#     healthy_list_path = f\"{output_path}/healthy_list.npy\"\n",
    "#     anomalous_list_path = f\"{output_path}/anomalous_list.npy\"\n",
    "    \n",
    "    return healthy_list, healthy_patient_list, number_of_healthy_list, anomalous_patient_list\n",
    "\n",
    "#     np.save(healthy_list_path, np.array(healthy_list))\n",
    "#     np.save(anomalous_list_path, np.array(anomalous_list))\n",
    "\n",
    "#     print(f\"Healthy list saved as {healthy_list_path}.\")\n",
    "#     print(f\"Anomalous list saved as {anomalous_list_path}.\")"
   ]
  },
  {
   "cell_type": "code",
   "execution_count": null,
   "id": "2b03fbf2",
   "metadata": {},
   "outputs": [],
   "source": [
    "def divide_list_by_index(nums, target):\n",
    "    n = len(nums)\n",
    "    # Create a DP table where dp[i][j] indicates if sum j can be achieved using the first i elements\n",
    "    dp = [[False] * (target + 1) for _ in range(n + 1)]\n",
    "    dp[0][0] = True  # Base case: sum of 0 is possible with 0 elements\n",
    "\n",
    "    # Track how each sum is achieved\n",
    "    parent = [[-1] * (target + 1) for _ in range(n + 1)]\n",
    "\n",
    "    # Fill the DP table\n",
    "    for i in range(1, n + 1):\n",
    "        for j in range(target + 1):\n",
    "            if dp[i - 1][j]:  # If sum j is achievable without current element\n",
    "                dp[i][j] = True\n",
    "                parent[i][j] = j\n",
    "            if j >= nums[i - 1] and dp[i - 1][j - nums[i - 1]]:  # If sum j is achievable by including current element\n",
    "                dp[i][j] = True\n",
    "                parent[i][j] = j - nums[i - 1]\n",
    "\n",
    "    # Find the closest sum to the target\n",
    "    closest_sum = -1\n",
    "    for j in range(target, -1, -1):\n",
    "        if dp[n][j]:\n",
    "            closest_sum = j\n",
    "            break\n",
    "\n",
    "    # Backtrack to find the subset\n",
    "    subset_indices = []\n",
    "    i, j = n, closest_sum\n",
    "    while i > 0 and j >= 0:\n",
    "        if parent[i][j] != j:  # If this element was included in the subset\n",
    "            subset_indices.append(i - 1)\n",
    "            j = parent[i][j]\n",
    "        i -= 1\n",
    "\n",
    "    # Remaining indices\n",
    "    subset_indices = set(subset_indices)\n",
    "    remaining_indices = [i for i in range(n) if i not in subset_indices]\n",
    "\n",
    "    return list(subset_indices), remaining_indices"
   ]
  },
  {
   "cell_type": "code",
   "execution_count": 3,
   "id": "245e96c7",
   "metadata": {},
   "outputs": [],
   "source": [
    "data_path = '/home/camp/Projects/Yuan/Data/brats23/ASNR-MICCAI-BraTS2023-GLI-Challenge-TrainingData'\n",
    "healthy_list, healthy_patient_list, number_of_healthy_list, anomalous_patient_list = create_healthy_and_anomalous_list(data_path)"
   ]
  },
  {
   "cell_type": "code",
   "execution_count": 13,
   "id": "623007d9",
   "metadata": {},
   "outputs": [
    {
     "name": "stdout",
     "output_type": "stream",
     "text": [
      "372\n",
      "879\n"
     ]
    }
   ],
   "source": [
    "print(len(healthy_patient_list))\n",
    "print(len(anomalous_patient_list))\n"
   ]
  },
  {
   "cell_type": "code",
   "execution_count": 15,
   "id": "9e895e8f",
   "metadata": {},
   "outputs": [
    {
     "data": {
      "text/plain": [
       "4159"
      ]
     },
     "execution_count": 15,
     "metadata": {},
     "output_type": "execute_result"
    }
   ],
   "source": [
    "len(healthy_list)"
   ]
  },
  {
   "cell_type": "code",
   "execution_count": 7,
   "id": "4fb07d39",
   "metadata": {},
   "outputs": [],
   "source": [
    "subset_indices, remaining_indices = divide_list_by_index(number_of_healthy_list, 3743)"
   ]
  },
  {
   "cell_type": "code",
   "execution_count": 8,
   "id": "c9d665eb",
   "metadata": {},
   "outputs": [
    {
     "name": "stdout",
     "output_type": "stream",
     "text": [
      "Subset close to target (values): 3743\n",
      "Remaining numbers (values): 416\n"
     ]
    }
   ],
   "source": [
    "subset_numbers = [number_of_healthy_list[i] for i in subset_indices]\n",
    "remaining_numbers = [number_of_healthy_list[i] for i in remaining_indices]\n",
    "print(\"Subset close to target (values):\", np.sum(subset_numbers))\n",
    "print(\"Remaining numbers (values):\", np.sum(remaining_numbers))"
   ]
  },
  {
   "cell_type": "code",
   "execution_count": 11,
   "id": "99cbe0ec",
   "metadata": {},
   "outputs": [
    {
     "name": "stdout",
     "output_type": "stream",
     "text": [
      "3743\n"
     ]
    }
   ],
   "source": [
    "train_healthy_data = [image for i in subset_indices for image in healthy_list[i]]\n",
    "test_healthy_data = [image for i in remaining_indices for image in healthy_list[i]]\n",
    "print(len(train_healthy_data))\n",
    "\n",
    "np.save('/home/camp/Projects/Yuan/thesis_diffusion-main/output/BraTS/train_healthy_dataset_new.npy',np.array(train_healthy_data))\n",
    "np.save('/home/camp/Projects/Yuan/thesis_diffusion-main/output/BraTS/test_healthy_dataset_new.npy',np.array(test_healthy_data))\n"
   ]
  },
  {
   "cell_type": "code",
   "execution_count": 12,
   "id": "ed2dbe14",
   "metadata": {},
   "outputs": [],
   "source": [
    "del healthy_list, train_healthy_data, test_healthy_data"
   ]
  },
  {
   "cell_type": "code",
   "execution_count": 20,
   "id": "d5c3e887",
   "metadata": {},
   "outputs": [],
   "source": [
    "anomalous_list = []\n",
    "brain_slices = np.arange(80, 100)\n",
    "for patient in anomalous_patient_list:\n",
    "    path = f\"{data_path}/{patient}/{patient}\"\n",
    "    seg = nib.load(f\"{path}-seg.nii.gz\").get_fdata()\n",
    "    volume = nib.load(f\"{path}-t2f.nii.gz\").get_fdata()\n",
    "\n",
    "    for brain_slice in brain_slices:\n",
    "        seg_slice = seg[:, :, brain_slice]\n",
    "\n",
    "        if not np.all(seg_slice ==0):  # Tumor\n",
    "            anomalous_list.append([patient, brain_slice])"
   ]
  },
  {
   "cell_type": "code",
   "execution_count": 19,
   "id": "1aedc85f",
   "metadata": {},
   "outputs": [
    {
     "data": {
      "text/plain": [
       "1251"
      ]
     },
     "execution_count": 19,
     "metadata": {},
     "output_type": "execute_result"
    }
   ],
   "source": [
    "len(anomalous_patient_list)+len(healthy_patient_list)"
   ]
  },
  {
   "cell_type": "code",
   "execution_count": 26,
   "id": "b2812103",
   "metadata": {},
   "outputs": [
    {
     "name": "stdout",
     "output_type": "stream",
     "text": [
      "Test anomalous dataset: 1000.\n",
      "Test anomalous dataset and mask saved as /home/camp/Projects/Yuan/thesis_diffusion-main/output/BraTS/test_anomalous_dataset_new.npy and /home/camp/Projects/Yuan/thesis_diffusion-main/output/BraTS/test_anomalous_masks_new.npy.\n"
     ]
    }
   ],
   "source": [
    "num_test_data = 1000\n",
    "anomalous_list = np.array(anomalous_list)\n",
    "anomalous_dataset = np.zeros((num_test_data, 240, 240), dtype=np.float64)\n",
    "anomalous_masks = np.zeros((num_test_data, 240, 240), dtype=np.float64)\n",
    "\n",
    "test_anomalous_list = anomalous_list[np.random.choice(anomalous_list.shape[0], num_test_data, replace=False), :]\n",
    "for i, (patient, brain_slice) in enumerate(test_anomalous_list):\n",
    "    path = f\"{data_path}/{patient}/{patient}\"\n",
    "    anomalous_dataset[i] = nib.load(f\"{path}-t2f.nii.gz\").get_fdata()[:, :, int(brain_slice)]\n",
    "    anomalous_masks[i] = nib.load(f\"{path}-seg.nii.gz\").get_fdata()[:, :, int(brain_slice)]\n",
    "print(f\"Test anomalous dataset: {len(anomalous_dataset)}.\")\n",
    "\n",
    "test_dataset_path = f\"/home/camp/Projects/Yuan/thesis_diffusion-main/output/BraTS/test_anomalous_dataset_new.npy\"\n",
    "test_masks_path = f\"/home/camp/Projects/Yuan/thesis_diffusion-main/output/BraTS/test_anomalous_masks_new.npy\"\n",
    "np.save(test_dataset_path, anomalous_dataset)\n",
    "np.save(test_masks_path, anomalous_masks)\n",
    "print(f\"Test anomalous dataset and mask saved as {test_dataset_path} and {test_masks_path}.\")"
   ]
  },
  {
   "cell_type": "markdown",
   "id": "670d2a41",
   "metadata": {},
   "source": [
    "# Lits"
   ]
  },
  {
   "cell_type": "code",
   "execution_count": 2,
   "id": "144c89a7",
   "metadata": {},
   "outputs": [],
   "source": [
    "def create_healthy_and_anomalous_list(data_path):\n",
    "    segmentation_files = os.listdir(f\"{data_path}/segmentation\")\n",
    "    segmentation_files.sort()\n",
    "    volume_files = os.listdir(f\"{data_path}/volume\")\n",
    "    volume_files.sort()\n",
    "\n",
    "    healthy_patient_list = []\n",
    "    anomalous_patient_list = []\n",
    "    number_of_healthy_slices = []\n",
    "    number_of_anomalous_slices = []\n",
    "    anomalous_slices_by_patient = {}\n",
    "    patient_slices = {}\n",
    "\n",
    "    for idx in range(len(volume_files)):\n",
    "        seg_path = f\"{data_path}/segmentation/{segmentation_files[idx]}\"\n",
    "        volume_path = f\"{data_path}/volume/{volume_files[idx]}\"\n",
    "        seg = nib.load(seg_path).get_fdata()\n",
    "        volume = nib.load(volume_path).get_fdata()\n",
    "        \n",
    "        volume = np.clip(volume, 0, 150)\n",
    "        \n",
    "        count_liver = np.sum(seg == 1, axis=(0, 1))  # Healthy liver tissue area\n",
    "        count_tumor = np.sum(seg == 2, axis=(0, 1))  # Tumor area\n",
    "\n",
    "        # Identify healthy and anomalous slices\n",
    "        healthy_mask = (count_liver > 10000) & (count_tumor == 0)\n",
    "        anomalous_mask = (count_liver + count_tumor >= 10000) & (count_tumor > 1500)\n",
    "\n",
    "        num_healthy_slices = np.sum(healthy_mask)\n",
    "        num_anomalous_slices = np.sum(anomalous_mask)\n",
    "\n",
    "        patient_id = segmentation_files[idx]\n",
    "        patient_slices[patient_id] = {\n",
    "            \"healthy_images\": np.moveaxis(volume[:, :, healthy_mask], 2, 0).copy(),\n",
    "            \"healthy_liver_masks\": np.moveaxis(seg[:, :, healthy_mask] == 1, 2, 0).copy(),  # Save only liver mask\n",
    "            \"anomalous_images\": np.moveaxis(volume[:, :, anomalous_mask], 2, 0).copy(), \n",
    "            \"anomalous_masks\": np.moveaxis(seg[:, :, anomalous_mask] == 2, 2, 0).copy()\n",
    "        }\n",
    "        \n",
    "        if num_healthy_slices > 0:\n",
    "            healthy_patient_list.append(patient_id)\n",
    "            number_of_healthy_slices.append(num_healthy_slices)\n",
    "\n",
    "        if num_anomalous_slices > 0:\n",
    "            anomalous_patient_list.append(patient_id)\n",
    "            number_of_anomalous_slices.append(num_anomalous_slices)\n",
    "            anomalous_slices_by_patient[patient_id] = num_anomalous_slices\n",
    "    \n",
    "    return healthy_patient_list, number_of_healthy_slices, anomalous_patient_list, number_of_anomalous_slices, anomalous_slices_by_patient, patient_slices"
   ]
  },
  {
   "cell_type": "code",
   "execution_count": 3,
   "id": "097cac91",
   "metadata": {},
   "outputs": [],
   "source": [
    "def split_patients(healthy_patients, num_healthy_slices, anomalous_patients, num_anomalous_slices, anomalous_slices_by_patient, patient_slices, target_train_size, save_path):\n",
    "    # Sort healthy patients by number of slices (descending)\n",
    "    sorted_healthy = sorted(zip(healthy_patients, num_healthy_slices), key=lambda x: x[1], reverse=True)\n",
    "    \n",
    "    train_set = set()\n",
    "    test_set = set()\n",
    "    train_size = 0\n",
    "    \n",
    "    # Greedy selection for healthy training group\n",
    "    for patient, count in sorted_healthy:\n",
    "        if train_size + count <= target_train_size:\n",
    "            train_set.add(patient)\n",
    "            train_size += count\n",
    "        else:\n",
    "            test_set.add(patient)\n",
    "    \n",
    "    # Ensure all healthy images are used\n",
    "    test_set.update(patient for patient, _ in sorted_healthy if patient not in train_set)\n",
    "    \n",
    "    # Select anomalous test set (cannot be from train_set), sampled randomly\n",
    "    available_anomalous = [p for p in anomalous_patients if p in test_set]\n",
    "    all_anomalous_slices = [(p, n) for p, n in anomalous_slices_by_patient.items() if p in available_anomalous]\n",
    "    \n",
    "    random.shuffle(all_anomalous_slices)  # Shuffle to randomize selection\n",
    "    anomalous_test_set = set()\n",
    "    anomalous_test_size = 0\n",
    "    \n",
    "    for patient, count in all_anomalous_slices:\n",
    "        if anomalous_test_size + count <= 1000:\n",
    "            anomalous_test_set.add(patient)\n",
    "            anomalous_test_size += count\n",
    "    \n",
    "    print(f\"Size of Healthy Training Group: {sum(num_healthy_slices[healthy_patients.index(p)] for p in train_set)}\")\n",
    "    print(f\"Size of Healthy Test Group: {sum(num_healthy_slices[healthy_patients.index(p)] for p in test_set)}\")\n",
    "    print(f\"Size of Anomalous Test Group: {anomalous_test_size}\")\n",
    "    \n",
    "#     # Save the image sets as .pkl files\n",
    "#     datasets = {\n",
    "#         \"train_healthy_abdomen_dataset_new\": [img for p in train_set for img in patient_slices[p][\"healthy_images\"]],\n",
    "#         \"train_healthy_liver_masks_new\": [img for p in train_set for img in patient_slices[p][\"healthy_liver_masks\"]],\n",
    "#         \"test_healthy_abdomen_dataset_new\": [img for p in test_set for img in patient_slices[p][\"healthy_images\"]],\n",
    "#         \"test_healthy_liver_masks_new\": [img for p in test_set for img in patient_slices[p][\"healthy_liver_masks\"]],\n",
    "#         \"test_anomalous_abdomen_dataset_new\": [img for p in anomalous_test_set for img in patient_slices[p][\"anomalous_images\"]],\n",
    "#         \"test_anomalous_tumor_masks_new\": [img for p in anomalous_test_set for img in patient_slices[p][\"anomalous_masks\"]]\n",
    "#     }\n",
    "    \n",
    "#     for name, data in datasets.items():\n",
    "#         with open(f\"{save_path}/{name}.pkl\", \"wb\") as f:\n",
    "#             pickle.dump(data, f)\n",
    "    \n",
    "    return list(train_set), list(test_set), list(anomalous_test_set)"
   ]
  },
  {
   "cell_type": "code",
   "execution_count": 4,
   "id": "19e77056",
   "metadata": {},
   "outputs": [],
   "source": [
    "data_path = '/home/camp/Projects/Yuan/Data/lits/LITS-Challenge-Training-Data'\n",
    "save_path = '/home/camp/Projects/Yuan/thesis_diffusion-main/output/LiTS'\n",
    "healthy_patients, num_healthy_slices, anomalous_patients, num_anomalous_slices, anomalous_slices_by_patient, patient_slices = create_healthy_and_anomalous_list(data_path)\n",
    "target_train_size = 5820\n",
    "\n"
   ]
  },
  {
   "cell_type": "code",
   "execution_count": 16,
   "id": "203759f9",
   "metadata": {},
   "outputs": [
    {
     "name": "stdout",
     "output_type": "stream",
     "text": [
      "Size of Healthy Training Group: 5820\n",
      "Size of Healthy Test Group: 647\n",
      "Size of Anomalous Test Group: 1000\n"
     ]
    }
   ],
   "source": [
    "train, test, anomalous_test = split_patients(healthy_patients, num_healthy_slices, anomalous_patients, num_anomalous_slices, anomalous_slices_by_patient, patient_slices, target_train_size, save_path)\n"
   ]
  },
  {
   "cell_type": "code",
   "execution_count": 17,
   "id": "15caa953",
   "metadata": {},
   "outputs": [],
   "source": [
    "# Save the image sets as .pkl files\n",
    "datasets = {\n",
    "    \"train_healthy_abdomen_dataset_new\": [img for p in train for img in patient_slices[p][\"healthy_images\"]],\n",
    "    \"train_healthy_liver_masks_new\": [img for p in train for img in patient_slices[p][\"healthy_liver_masks\"]],\n",
    "    \"test_healthy_abdomen_dataset_new\": [img for p in test for img in patient_slices[p][\"healthy_images\"]],\n",
    "    \"test_healthy_liver_masks_new\": [img for p in test for img in patient_slices[p][\"healthy_liver_masks\"]],\n",
    "    \"test_anomalous_abdomen_dataset_new\": [img for p in anomalous_test for img in patient_slices[p][\"anomalous_images\"]],\n",
    "    \"test_anomalous_tumor_masks_new\": [img for p in anomalous_test for img in patient_slices[p][\"anomalous_masks\"]]\n",
    "}\n",
    "\n",
    "for name, data in datasets.items():\n",
    "    with open(f\"{save_path}/{name}.pkl\", \"wb\") as f:\n",
    "        pickle.dump(data, f)"
   ]
  },
  {
   "cell_type": "code",
   "execution_count": 18,
   "id": "02c6e541",
   "metadata": {},
   "outputs": [
    {
     "name": "stdout",
     "output_type": "stream",
     "text": [
      "1000\n"
     ]
    }
   ],
   "source": [
    "with open(f\"../output/LiTS/test_anomalous_abdomen_dataset_new.pkl\", \"rb\") as f:\n",
    "    data = pickle.load(f)\n",
    "print(len(data))\n",
    "# print(np.array(data).shape)"
   ]
  },
  {
   "cell_type": "code",
   "execution_count": 16,
   "id": "14d4f37e",
   "metadata": {},
   "outputs": [
    {
     "name": "stdout",
     "output_type": "stream",
     "text": [
      "[  0   1   2   3   4   5   6   7   8   9  10  11  12  13  14  15  16  17\n",
      "  18  19  20  21  22  23  24  25  26  27  28  29  30  31  32  33  34  35\n",
      "  36  37  38  39  40  41  42  43  44  45  46  47  48  49  50  51  52  53\n",
      "  54  55  56  57  58  59  60  61  62  63  64  65  66  67  68  69  70  71\n",
      "  72  73  74  75  76  77  78  79  80  81  82  83  84  85  86  87  88  89\n",
      "  90  91  92  93  94  95  96  97  98  99 100 101 102 103 104 105 106 107\n",
      " 108 109 110 111 112 113 114 115 116 117 118 119 120 121 122 123 124 125\n",
      " 126 127 128 129 130 131 132 133 134 135 136 137 138 139 140 141 142 143\n",
      " 144 145 146 147 148 149 150]\n"
     ]
    },
    {
     "data": {
      "image/png": "[encoded data removed]",
      "text/plain": [
       "<Figure size 640x480 with 1 Axes>"
      ]
     },
     "metadata": {},
     "output_type": "display_data"
    }
   ],
   "source": [
    "plt.imshow(data[10])\n",
    "print(np.unique(data[10]))"
   ]
  },
  {
   "cell_type": "code",
   "execution_count": 14,
   "id": "aa18d2f5",
   "metadata": {},
   "outputs": [],
   "source": [
    "original_file = f\"../output/LiTS/test_anomalous_abdomen_dataset_new.pkl\"\n",
    "\n",
    "with open(original_file, \"rb\") as f:\n",
    "    data = pickle.load(f)\n",
    "\n",
    "# resized_images = [cv2.resize(img.astype(int), (128,128), interpolation=cv2.INTER_NEAREST) for img in data]\n",
    "\n",
    "resized_images = [cv2.resize(img.astype(int), (128,128), interpolation=cv2.INTER_LINEAR) for img in data]\n",
    "\n",
    "with open(original_file, \"wb\") as f:\n",
    "    pickle.dump(resized_images, f)"
   ]
  },
  {
   "cell_type": "code",
   "execution_count": 15,
   "id": "25cddbf8",
   "metadata": {},
   "outputs": [
    {
     "data": {
      "text/plain": [
       "(1000, 128, 128)"
      ]
     },
     "execution_count": 15,
     "metadata": {},
     "output_type": "execute_result"
    }
   ],
   "source": [
    "np.array(resized_images).shape"
   ]
  },
  {
   "cell_type": "code",
   "execution_count": null,
   "id": "1e5a07d9",
   "metadata": {},
   "outputs": [],
   "source": []
  },
  {
   "cell_type": "code",
   "execution_count": null,
   "id": "5d5177f1",
   "metadata": {},
   "outputs": [],
   "source": []
  },
  {
   "cell_type": "code",
   "execution_count": null,
   "id": "e87d8325",
   "metadata": {},
   "outputs": [],
   "source": []
  },
  {
   "cell_type": "code",
   "execution_count": null,
   "id": "f8070daf",
   "metadata": {},
   "outputs": [],
   "source": []
  },
  {
   "cell_type": "code",
   "execution_count": 3,
   "id": "d6094fd9",
   "metadata": {},
   "outputs": [],
   "source": [
    "import os\n",
    "import pandas as pd\n",
    "from PIL import Image"
   ]
  },
  {
   "cell_type": "code",
   "execution_count": 5,
   "id": "c0fa45d9",
   "metadata": {},
   "outputs": [
    {
     "name": "stdout",
     "output_type": "stream",
     "text": [
      "Saved: /home/camp/Projects/Yuan/Data/Ultrasound_synomaly/unhealthy/Moustafa/18.10.2022/cropped_1/img/cropped_data072.png\n",
      "Saved: /home/camp/Projects/Yuan/Data/Ultrasound_synomaly/unhealthy/Moustafa/18.10.2022/cropped_1/img/cropped_data073.png\n",
      "Saved: /home/camp/Projects/Yuan/Data/Ultrasound_synomaly/unhealthy/Moustafa/18.10.2022/cropped_1/img/cropped_data074.png\n",
      "Saved: /home/camp/Projects/Yuan/Data/Ultrasound_synomaly/unhealthy/Moustafa/18.10.2022/cropped_1/img/cropped_data075.png\n",
      "Saved: /home/camp/Projects/Yuan/Data/Ultrasound_synomaly/unhealthy/Moustafa/18.10.2022/cropped_1/img/cropped_data076.png\n",
      "Saved: /home/camp/Projects/Yuan/Data/Ultrasound_synomaly/unhealthy/Moustafa/18.10.2022/cropped_1/img/cropped_data077.png\n",
      "Saved: /home/camp/Projects/Yuan/Data/Ultrasound_synomaly/unhealthy/Moustafa/18.10.2022/cropped_1/img/cropped_data078.png\n",
      "Saved: /home/camp/Projects/Yuan/Data/Ultrasound_synomaly/unhealthy/Moustafa/18.10.2022/cropped_1/img/cropped_data079.png\n",
      "Saved: /home/camp/Projects/Yuan/Data/Ultrasound_synomaly/unhealthy/Moustafa/18.10.2022/cropped_1/img/cropped_data080.png\n",
      "Saved: /home/camp/Projects/Yuan/Data/Ultrasound_synomaly/unhealthy/Moustafa/18.10.2022/cropped_1/img/cropped_data081.png\n",
      "Saved: /home/camp/Projects/Yuan/Data/Ultrasound_synomaly/unhealthy/Moustafa/18.10.2022/cropped_1/img/cropped_data082.png\n",
      "Saved: /home/camp/Projects/Yuan/Data/Ultrasound_synomaly/unhealthy/Moustafa/18.10.2022/cropped_1/img/cropped_data083.png\n",
      "Saved: /home/camp/Projects/Yuan/Data/Ultrasound_synomaly/unhealthy/Moustafa/18.10.2022/cropped_1/img/cropped_data084.png\n",
      "Saved: /home/camp/Projects/Yuan/Data/Ultrasound_synomaly/unhealthy/Moustafa/18.10.2022/cropped_1/img/cropped_data085.png\n",
      "Cropping completed!\n"
     ]
    }
   ],
   "source": [
    "# Placeholder paths (replace with actual paths)\n",
    "CSV_FILE_PATH = \"/home/camp/Projects/Yuan/Data/Ultrasound_synomaly/unhealthy/Moustafa/18.10.2022/patient_1810_1.csv\"\n",
    "IMAGE_FOLDER = \"/home/camp/Projects/Yuan/Data/Ultrasound_synomaly/unhealthy/Moustafa/18.10.2022/1/img\"\n",
    "OUTPUT_FOLDER = \"/home/camp/Projects/Yuan/Data/Ultrasound_synomaly/unhealthy/Moustafa/18.10.2022/cropped_1/img\"\n",
    "IMAGE_FORMAT = \"png\"  # Change this if images have a different format (e.g., png)\n",
    "\n",
    "# Define range for processing\n",
    "IMAGE_INDEX_MIN = 72  # Change this to set the minimum index\n",
    "IMAGE_INDEX_MAX = 85  # Change this to set the maximum index\n",
    "\n",
    "# Create output folder if it doesn't exist\n",
    "os.makedirs(OUTPUT_FOLDER, exist_ok=True)\n",
    "\n",
    "# Load the CSV file\n",
    "df = pd.read_csv(CSV_FILE_PATH)\n",
    "\n",
    "# Filter images within the specified range\n",
    "df = df[(df[\"Unnamed: 0\"] >= IMAGE_INDEX_MIN) & (df[\"Unnamed: 0\"] <= IMAGE_INDEX_MAX)]\n",
    "\n",
    "# List all image files in the folder\n",
    "image_files = sorted(os.listdir(IMAGE_FOLDER))  # Sorting ensures index consistency\n",
    "\n",
    "# Iterate through each row in the filtered CSV\n",
    "total_images = len(df)\n",
    "for index, row in df.iterrows():\n",
    "    image_index = row[\"Unnamed: 0\"]  # Assuming first column is the image index\n",
    "    x_min, y_min, x_max, y_max = row[\"x_min\"], row[\"y_min\"], row[\"x_max\"], row[\"y_max\"]\n",
    "    \n",
    "    # Get image by its position in the sorted list\n",
    "    if image_index < len(image_files):\n",
    "        image_path = os.path.join(IMAGE_FOLDER, image_files[image_index])\n",
    "        output_path = os.path.join(OUTPUT_FOLDER, f\"cropped_{image_files[image_index]}\")\n",
    "        \n",
    "        # Open and crop the image\n",
    "        with Image.open(image_path) as img:\n",
    "            cropped_img = img.crop((x_min, y_min, x_max, y_max))\n",
    "            cropped_img.save(output_path)\n",
    "            print(f\"Saved: {output_path}\")\n",
    "    else:\n",
    "        print(f\"Warning: Image index out of range - {image_index}\")\n",
    "\n",
    "print(\"Cropping completed!\")\n",
    "\n",
    "\n"
   ]
  },
  {
   "cell_type": "code",
   "execution_count": 6,
   "id": "b2d18bcd",
   "metadata": {},
   "outputs": [
    {
     "name": "stdout",
     "output_type": "stream",
     "text": [
      "Conversion and renaming completed for all PNG files in subfolders!\n"
     ]
    }
   ],
   "source": [
    "import os\n",
    "from PIL import Image\n",
    "\n",
    "# Set the main directory containing images\n",
    "folder_path = \"/home/camp/Projects/Yuan/Data/Ultrasound_synomaly/unhealthy_selected\"  # Change this to your folder path\n",
    "\n",
    "# Walk through all subdirectories and files\n",
    "for root, _, files in os.walk(folder_path):\n",
    "    for filename in files:\n",
    "        if filename.endswith(\".png\"):  # Only process .png files\n",
    "            old_path = os.path.join(root, filename)\n",
    "\n",
    "            # Open the image using Pillow\n",
    "            img = Image.open(old_path)\n",
    "\n",
    "            # Convert image to RGB (necessary for .jpg format)\n",
    "            img = img.convert(\"RGB\")\n",
    "\n",
    "            # Create new filename\n",
    "            new_name = filename.replace(\".png\", \".jpg\")\n",
    "            new_path = os.path.join(root, new_name)\n",
    "\n",
    "            # Save as JPG\n",
    "            img.save(new_path, \"JPEG\", quality=95)  # Adjust quality if needed\n",
    "\n",
    "            # Optional: Remove the original PNG file after conversion\n",
    "            os.remove(old_path)\n",
    "\n",
    "print(\"Conversion and renaming completed for all PNG files in subfolders!\")"
   ]
  },
  {
   "cell_type": "code",
   "execution_count": 8,
   "id": "308c9d8b",
   "metadata": {},
   "outputs": [
    {
     "name": "stdout",
     "output_type": "stream",
     "text": [
      "Conversion completed! Check console for images with zero intensity.\n"
     ]
    }
   ],
   "source": [
    "import os\n",
    "from PIL import Image\n",
    "import numpy as np\n",
    "\n",
    "# Set the main directory containing images\n",
    "folder_path = \"/home/camp/Projects/Yuan/Data/Ultrasound_synomaly/unhealthy_selected\"  # Change this to your folder path\n",
    "\n",
    "# Walk through all subdirectories and files\n",
    "for root, _, files in os.walk(folder_path):\n",
    "    for filename in files:\n",
    "        if filename.endswith(\".png\"):  # Only process .png files\n",
    "            old_path = os.path.join(root, filename)\n",
    "\n",
    "            # Open the image using Pillow\n",
    "            img = Image.open(old_path)\n",
    "\n",
    "            # Convert image to grayscale (to check intensity)\n",
    "            img_gray = img.convert(\"L\")  # 'L' mode converts to grayscale\n",
    "\n",
    "            # Convert image to NumPy array and sum pixel values\n",
    "            img_array = np.array(img_gray)\n",
    "            intensity_sum = np.sum(img_array)\n",
    "\n",
    "            # If the sum of all intensities is 0, print the filename\n",
    "            if intensity_sum == 0:\n",
    "                print(f\"Image with zero intensity: {old_path}\")\n",
    "                continue  # Skip conversion for this image\n",
    "\n",
    "            # Convert image to RGB (necessary for .jpg format)\n",
    "            img = img.convert(\"RGB\")\n",
    "\n",
    "            # Create new filename\n",
    "            new_name = filename.replace(\".png\", \".jpg\")\n",
    "            new_path = os.path.join(root, new_name)\n",
    "\n",
    "            # Save as JPG\n",
    "            img.save(new_path, \"JPEG\", quality=95)  # Adjust quality if needed\n",
    "\n",
    "            # Optional: Remove the original PNG file after conversion\n",
    "            os.remove(old_path)\n",
    "\n",
    "print(\"Conversion completed! Check console for images with zero intensity.\")"
   ]
  },
  {
   "cell_type": "code",
   "execution_count": null,
   "id": "0b8114cf",
   "metadata": {},
   "outputs": [],
   "source": []
  }
 ],
 "metadata": {
  "kernelspec": {
   "display_name": "Python 3 (ipykernel)",
   "language": "python",
   "name": "python3"
  },
  "language_info": {
   "codemirror_mode": {
    "name": "ipython",
    "version": 3
   },
   "file_extension": ".py",
   "mimetype": "text/x-python",
   "name": "python",
   "nbconvert_exporter": "python",
   "pygments_lexer": "ipython3",
   "version": "3.11.9"
  }
 },
 "nbformat": 4,
 "nbformat_minor": 5
}
